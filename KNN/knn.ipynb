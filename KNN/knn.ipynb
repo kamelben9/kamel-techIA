{
 "cells": [
  {
   "cell_type": "code",
   "execution_count": 5,
   "metadata": {},
   "outputs": [],
   "source": [
    "import csv\n",
    "import matplotlib.pyplot as plt \n",
    "\n",
    "fichier = open (r\"pokemon.csv\")\n",
    "reader = csv.reader(fichier)\n",
    "liste_pokemon = []\n",
    "i = 0\n",
    "for row in reader:\n",
    "    if i > 0:\n",
    "        liste_pokemon.append(row)\n",
    "    i += 1\n"
   ]
  },
  {
   "cell_type": "code",
   "execution_count": 6,
   "metadata": {},
   "outputs": [
    {
     "data": {
      "text/plain": [
       "[['Ecayon', '49', '49', 'Eau'],\n",
       " ['Tiplouf', '53', '51', 'Eau'],\n",
       " ['Carabaffe', '59', '63', 'Eau'],\n",
       " ['Prinplouf', '64', '66', 'Eau'],\n",
       " ['Gobou', '50', '70', 'Eau'],\n",
       " ['Gamblast', '71', '73', 'Eau'],\n",
       " ['Mateloutre', '75', '75', 'Eau'],\n",
       " ['Tarpaud', '90', '75', 'Eau'],\n",
       " ['Crocrodil', '65', '80', 'Eau'],\n",
       " ['Phione', '80', '80', 'Eau'],\n",
       " ['Rosabyss', '55', '84', 'Eau'],\n",
       " ['Bargantua', '70', '92', 'Eau'],\n",
       " ['Poissoroy', '80', '92', 'Eau'],\n",
       " ['Clamiral', '95', '100', 'Eau'],\n",
       " ['Octillery', '75', '105', 'Eau'],\n",
       " ['Aligatueur', '85', '105', 'Eau'],\n",
       " ['Nucleos', '45', '30', 'Psy'],\n",
       " ['Deoxys', '50', '70', 'Psy'],\n",
       " ['Deoxys', '50', '95', 'Psy'],\n",
       " ['Deoxys', '50', '150', 'Psy'],\n",
       " ['Deoxys', '50', '180', 'Psy'],\n",
       " ['Spoink', '60', '25', 'Psy'],\n",
       " ['Mesmerella', '60', '45', 'Psy'],\n",
       " ['Siderella', '70', '55', 'Psy'],\n",
       " ['Eoko', '75', '50', 'Psy'],\n",
       " ['Crefadet', '75', '125', 'Psy'],\n",
       " ['Munna', '76', '25', 'Psy'],\n",
       " ['Groret', '80', '45', 'Psy'],\n",
       " ['Okeoke', '95', '23', 'Psy'],\n",
       " ['Mew', '100', '100', 'Psy'],\n",
       " ['Mewtwo', '106', '110', 'Psy'],\n",
       " ['Mewtwo', '106', '150', 'Psy'],\n",
       " ['Mewtwo', '106', '190', 'Psy'],\n",
       " ['Symbios', '110', '65', 'Psy']]"
      ]
     },
     "execution_count": 6,
     "metadata": {},
     "output_type": "execute_result"
    }
   ],
   "source": [
    "liste_pokemon"
   ]
  },
  {
   "cell_type": "code",
   "execution_count": 11,
   "metadata": {},
   "outputs": [],
   "source": [
    "# Méthode par compréhension\n",
    "\n",
    "liste_eau = [pokemon for pokemon in liste_pokemon if pokemon[3] == 'Eau']\n",
    "liste_psy = [pokemon for pokemon in liste_pokemon if pokemon[3] == 'Psy']"
   ]
  },
  {
   "cell_type": "code",
   "execution_count": 12,
   "metadata": {},
   "outputs": [],
   "source": [
    "# Méthode avec un for\n",
    "\n",
    "liste_eau = []\n",
    "for pokemon in liste_pokemon:\n",
    "    if pokemon[3] == 'Eau':\n",
    "        liste_eau.append(pokemon)\n",
    "\n",
    "liste_psy = []\n",
    "for pokemon in liste_pokemon:\n",
    "    if pokemon[3] == 'Psy':\n",
    "        liste_psy.append(pokemon)"
   ]
  },
  {
   "cell_type": "code",
   "execution_count": 14,
   "metadata": {},
   "outputs": [],
   "source": [
    "liste_pv_eau = [int(pokemon[1]) for pokemon in liste_eau]\n",
    "liste_att_eau = [int(pokemon[2]) for pokemon in liste_eau]\n",
    "\n",
    "liste_pv_psy = [int(pokemon[1]) for pokemon in liste_psy]\n",
    "liste_att_psy = [int(pokemon[2]) for pokemon in liste_psy]"
   ]
  },
  {
   "cell_type": "code",
   "execution_count": 22,
   "metadata": {},
   "outputs": [
    {
     "data": {
      "image/png": "[encoded data removed]",
      "text/plain": [
       "<Figure size 432x288 with 1 Axes>"
      ]
     },
     "metadata": {
      "needs_background": "light"
     },
     "output_type": "display_data"
    }
   ],
   "source": [
    "import matplotlib.pyplot as plt \n",
    "\n",
    "plt.plot(liste_pv_eau,liste_att_eau, \"ob\")\n",
    "plt.plot(liste_pv_psy,liste_att_psy, \"or\")\n",
    "\n",
    "plt.xlabel(\"Points d'attaque des PKMN\")\n",
    "plt.ylabel(\"PV des PKMN\")\n",
    "plt.title(\"Classification des PKMN Psy et Eau selon l'Attaque et les PV\")\n",
    "\n",
    "plt.show()\n"
   ]
  },
  {
   "cell_type": "code",
   "execution_count": 41,
   "metadata": {},
   "outputs": [],
   "source": [
    "from math import sqrt\n",
    "\n",
    "def calculer_distance(pkmn1, pkmn2):\n",
    "\n",
    "   diff_att = int(pkmn1[1]) - int(pkmn2[1])\n",
    "   diff_pv = int(pkmn1[2]) - int(pkmn2[2])\n",
    "\n",
    "   return(sqrt((diff_pv**2) + (diff_att**2)))\n",
    "\n"
   ]
  },
  {
   "cell_type": "code",
   "execution_count": 52,
   "metadata": {},
   "outputs": [],
   "source": [
    "import copy\n",
    "\n",
    "def knn(liste_pokemon,cible,k):\n",
    "\n",
    "    liste_pkmn_trier = copy.deepcopy(liste_pokemon)\n",
    "\n",
    "    for pokemon in liste_pkmn_trier:\n",
    "        pokemon.append(calculer_distance(cible,pokemon))\n",
    "\n",
    "\n",
    "    liste_pkmn_trier.sort(key = lambda pkmn:pkmn[4])\n",
    "\n",
    "    return liste_pkmn_trier[0:k]\n",
    "\n",
    "knn(liste_pokemon, ['?',78,122,None], 5)\n",
    "\n",
    "liste_pkmn_trier = knn(liste_pokemon, ['?',78,122,None], 5)\n"
   ]
  },
  {
   "cell_type": "code",
   "execution_count": 53,
   "metadata": {},
   "outputs": [
    {
     "name": "stdout",
     "output_type": "stream",
     "text": [
      "Le pokemon est de type Eau\n"
     ]
    }
   ],
   "source": [
    "def type_pkmn(liste_pkmn_trier):\n",
    "\n",
    "    count_eau = 0\n",
    "    count_psy = 0\n",
    "\n",
    "    for pokemon in liste_pkmn_trier:\n",
    "\n",
    "        if pokemon[3] == 'Eau':\n",
    "            count_eau += 1\n",
    "        elif pokemon[3] == 'Psy':\n",
    "            count_psy += 1\n",
    "\n",
    "    if count_eau > count_psy:\n",
    "            print('Le pokemon est de type Eau')\n",
    "    elif count_psy > count_eau:\n",
    "            print('Le pokemon est de type Psy')\n",
    "\n",
    "\n",
    "type_pkmn(liste_pkmn_trier)"
   ]
  }
 ],
 "metadata": {
  "kernelspec": {
   "display_name": "Python 3.10.4 64-bit",
   "language": "python",
   "name": "python3"
  },
  "language_info": {
   "codemirror_mode": {
    "name": "ipython",
    "version": 3
   },
   "file_extension": ".py",
   "mimetype": "text/x-python",
   "name": "python",
   "nbconvert_exporter": "python",
   "pygments_lexer": "ipython3",
   "version": "3.10.4"
  },
  "orig_nbformat": 4,
  "vscode": {
   "interpreter": {
    "hash": "916dbcbb3f70747c44a77c7bcd40155683ae19c65e1c03b4aa3499c5328201f1"
   }
  }
 },
 "nbformat": 4,
 "nbformat_minor": 2
}
