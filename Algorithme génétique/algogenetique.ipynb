{
 "cells": [
  {
   "cell_type": "code",
   "execution_count": null,
   "metadata": {},
   "outputs": [],
   "source": [
    "import random\n",
    "from pprint import pprint\n",
    "from math import sqrt\n",
    "random.seed(123)\n",
    "\n",
    "\n",
    "\n",
    "\n",
    "class Génétique:\n",
    "\n",
    "    def __init__(self, nb_chemins, liste_points):\n",
    "        self.chemins = []\n",
    "        self.nb_chemins = nb_chemins\n",
    "        self.liste_points = liste_points\n",
    "        self.nb_points = len(self.liste_points)\n",
    "\n",
    "    def peupler():\n",
    "\n",
    "        \n",
    "\n",
    "       \n",
    "    def évaluer():\n",
    "        pass\n",
    "\n",
    "    def sélectionner():\n",
    "        pass\n",
    "\n",
    "    def croiser_et_muter():\n",
    "        pass\n",
    "\n",
    "    def meilleur_résultat():\n",
    "        pass"
   ]
  },
  {
   "cell_type": "code",
   "execution_count": null,
   "metadata": {},
   "outputs": [],
   "source": [
    "liste_points = [\n",
    "    (-893, -452),\n",
    "    (-822, 574),\n",
    "    (-166, -455),\n",
    "    (-780, 717),\n",
    "    (845, 791),\n",
    "    (-922, -224),\n",
    "    (98, 151),\n",
    "    (-320, -303)\n",
    "]\n",
    "\n",
    "gen = Génétique(21, liste_points)"
   ]
  }
 ],
 "metadata": {
  "kernelspec": {
   "display_name": "Python 3.10.4 64-bit",
   "language": "python",
   "name": "python3"
  },
  "language_info": {
   "name": "python",
   "version": "3.10.4"
  },
  "orig_nbformat": 4,
  "vscode": {
   "interpreter": {
    "hash": "916dbcbb3f70747c44a77c7bcd40155683ae19c65e1c03b4aa3499c5328201f1"
   }
  }
 },
 "nbformat": 4,
 "nbformat_minor": 2
}
