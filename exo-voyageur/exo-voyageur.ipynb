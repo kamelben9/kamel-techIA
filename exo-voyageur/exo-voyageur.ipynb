{
 "cells": [
  {
   "cell_type": "code",
   "execution_count": 6,
   "metadata": {},
   "outputs": [],
   "source": [
    "from pprint import pprint\n",
    "import random as rd\n",
    "from math import sqrt\n",
    "rd.seed(123)"
   ]
  },
  {
   "cell_type": "code",
   "execution_count": 7,
   "metadata": {},
   "outputs": [
    {
     "data": {
      "text/plain": [
       "[(-893, -452),\n",
       " (-822, 574),\n",
       " (-166, -455),\n",
       " (-780, 717),\n",
       " (845, 791),\n",
       " (-922, -224)]"
      ]
     },
     "execution_count": 7,
     "metadata": {},
     "output_type": "execute_result"
    }
   ],
   "source": [
    "liste_points = []\n",
    "\n",
    "liste_points = [(rd.randint(-1000, 1000), rd.randint(-1000, 1000)) for _ in range (6)]\n",
    "\n",
    "\n",
    "liste_points"
   ]
  },
  {
   "cell_type": "code",
   "execution_count": 8,
   "metadata": {},
   "outputs": [],
   "source": [
    "class Arbre:\n",
    "\n",
    "    def __init__(self, valeur, parent):\n",
    "        self.valeur = valeur\n",
    "        self.parent = parent\n",
    "        self.enfants = []\n",
    "\n",
    "    def ajouter_enfant(self, enfant):\n",
    "        self.enfants.append(enfant)\n",
    "\n",
    "    def est_feuille(self):\n",
    "\n",
    "\n",
    "        if len(self.enfants) == 0:\n",
    "            return True\n",
    "        else:\n",
    "            return False\n",
    "\n",
    "    def obtenir_profondeur(self):\n",
    "\n",
    "        if Arbre.est_feuille(self):\n",
    "            return 0\n",
    "        profondeurs_enfants = []\n",
    "        for enfant in self.enfants:\n",
    "            profondeurs_enfants.append(enfant.obtenir_profondeur())\n",
    "        return(max(profondeurs_enfants) + 1)\n",
    "        \n",
    "    def obtenir_points_dans_chemin(self):\n",
    "        if self.parent is None:\n",
    "            return [self.valeur]\n",
    "        else :\n",
    "            points_dans_chemin = []\n",
    "            for point in self.parent.obtenir_points_dans_chemin():\n",
    "                points_dans_chemin.append(point)\n",
    "            points_dans_chemin.append(self.valeur)\n",
    "            return points_dans_chemin"
   ]
  },
  {
   "cell_type": "code",
   "execution_count": 9,
   "metadata": {},
   "outputs": [],
   "source": [
    "def calculer_distance(point_A, point_B):\n",
    "    \n",
    "    dist_AB = ((point_A[0] - point_B[0]) + (point_A[1] - point_B[1]))\n",
    "\n",
    "    return (sqrt(dist_AB ** 2))\n",
    "\n",
    "def calculer_distance_chemin(chemin, liste_points):\n",
    "    \n",
    "    resultat = 0\n",
    "    for i in range(len(chemin) -1): #on utilise len pour ne pas sortir de la liste et éviter le message d'erreur \"index out of range\".\n",
    "        resultat += calculer_distance(liste_points[chemin[i]], liste_points[chemin[i + 1]])\n",
    "        return resultat"
   ]
  }
 ],
 "metadata": {
  "kernelspec": {
   "display_name": "Python 3.10.4 64-bit",
   "language": "python",
   "name": "python3"
  },
  "language_info": {
   "codemirror_mode": {
    "name": "ipython",
    "version": 3
   },
   "file_extension": ".py",
   "mimetype": "text/x-python",
   "name": "python",
   "nbconvert_exporter": "python",
   "pygments_lexer": "ipython3",
   "version": "3.10.4"
  },
  "orig_nbformat": 4,
  "vscode": {
   "interpreter": {
    "hash": "916dbcbb3f70747c44a77c7bcd40155683ae19c65e1c03b4aa3499c5328201f1"
   }
  }
 },
 "nbformat": 4,
 "nbformat_minor": 2
}
